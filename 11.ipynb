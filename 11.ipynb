{
 "cells": [
  {
   "cell_type": "code",
   "execution_count": 1,
   "id": "17f0ab53-c144-438b-a96d-8b91a9372034",
   "metadata": {},
   "outputs": [
    {
     "name": "stdout",
     "output_type": "stream",
     "text": [
      "[ 2  6  8 10 13]\n",
      "6\n"
     ]
    }
   ],
   "source": [
    "import numpy as np\n",
    "a = np.array([2,6,8,10,13])\n",
    "print(a)\n",
    "element = a[1]\n",
    "print(element)"
   ]
  },
  {
   "cell_type": "code",
   "execution_count": 2,
   "id": "4941857e-7003-426c-8c48-b907209e4695",
   "metadata": {},
   "outputs": [
    {
     "name": "stdout",
     "output_type": "stream",
     "text": [
      "Matrix:\n",
      "[[1 3 7]\n",
      " [2 4 6]\n",
      " [7 8 9]]\n",
      "6\n"
     ]
    }
   ],
   "source": [
    "matrix = np.array([[1, 3, 7], [2, 4, 6], [7, 8, 9]])\n",
    "print(\"Matrix:\")\n",
    "print(matrix)\n",
    "element = matrix[1, 2]\n",
    "print(element)"
   ]
  },
  {
   "cell_type": "code",
   "execution_count": 5,
   "id": "b3aaf1de-eb55-4670-b5b2-7f2ceb20d7ba",
   "metadata": {},
   "outputs": [
    {
     "name": "stdout",
     "output_type": "stream",
     "text": [
      "[0. 0. 0. 0. 0. 0. 0. 0. 0.]\n",
      "[1. 1. 1. 1. 1. 1. 1. 1. 1.]\n",
      "[1. 1. 1. 1. 1. 1. 1. 1. 1.]\n",
      "[  0   1   2   3   4   5   6   7   8   9  10  11  12  13  14  15  16  17\n",
      "  18  19  20  21  22  23  24  25  26  27  28  29  30  31  32  33  34  35\n",
      "  36  37  38  39  40  41  42  43  44  45  46  47  48  49  50  51  52  53\n",
      "  54  55  56  57  58  59  60  61  62  63  64  65  66  67  68  69  70  71\n",
      "  72  73  74  75  76  77  78  79  80  81  82  83  84  85  86  87  88  89\n",
      "  90  91  92  93  94  95  96  97  98  99 100 101 102 103 104 105 106 107\n",
      " 108 109 110 111 112 113 114 115 116 117 118 119 120 121 122 123 124 125\n",
      " 126 127 128 129 130 131 132 133 134 135 136 137 138 139 140 141 142 143\n",
      " 144 145 146 147 148 149 150 151 152 153 154 155 156 157 158 159 160 161\n",
      " 162 163 164 165 166 167 168 169 170 171 172 173 174 175 176 177 178 179\n",
      " 180 181 182 183 184 185 186 187 188 189 190 191 192 193 194 195 196 197\n",
      " 198 199 200 201 202 203 204 205 206 207 208 209 210 211 212 213 214 215\n",
      " 216 217 218 219 220 221 222 223 224 225 226 227 228 229 230 231 232 233\n",
      " 234 235 236 237 238 239 240 241 242 243 244 245 246 247 248 249 250 251\n",
      " 252 253 254 255 256 257 258 259 260 261 262 263 264 265 266 267 268 269\n",
      " 270 271 272 273 274 275 276 277 278 279 280 281 282 283 284 285 286 287\n",
      " 288 289 290 291 292 293 294 295 296 297 298 299 300 301 302 303 304 305\n",
      " 306 307 308 309 310 311 312 313 314 315 316 317 318 319 320 321 322 323\n",
      " 324 325 326 327 328 329 330 331 332 333 334 335 336 337 338 339 340 341\n",
      " 342 343 344 345 346 347 348 349 350 351 352 353 354 355 356 357 358 359\n",
      " 360 361 362 363 364 365 366 367 368 369 370 371 372 373 374 375 376 377\n",
      " 378 379 380 381 382 383 384 385 386 387 388 389 390 391 392 393 394 395\n",
      " 396 397 398 399 400 401 402 403 404 405 406 407 408 409 410 411 412 413\n",
      " 414 415 416 417 418 419 420 421 422 423 424 425 426 427 428 429 430 431\n",
      " 432 433 434 435 436 437 438 439 440 441 442 443 444 445 446 447 448 449\n",
      " 450 451 452 453 454 455 456 457 458 459 460 461 462 463 464 465 466 467\n",
      " 468 469 470 471 472 473 474 475 476 477 478 479 480 481 482 483 484 485\n",
      " 486 487 488 489 490 491 492 493 494 495 496 497 498 499 500 501 502 503\n",
      " 504 505 506 507 508 509 510 511 512 513 514 515 516 517 518 519 520 521\n",
      " 522 523 524 525 526 527 528 529 530 531 532 533 534 535 536 537 538 539\n",
      " 540 541 542 543 544 545 546 547 548 549 550 551 552 553 554 555 556 557\n",
      " 558 559 560 561 562 563 564 565 566 567 568 569 570 571 572 573 574 575\n",
      " 576 577 578 579 580 581 582 583 584 585 586 587 588 589 590 591 592 593\n",
      " 594 595 596 597 598 599 600 601 602 603 604 605 606 607 608 609 610 611\n",
      " 612 613 614 615 616 617 618 619 620 621 622 623 624 625 626 627 628 629\n",
      " 630 631 632 633 634 635 636 637 638 639 640 641 642 643 644 645 646 647\n",
      " 648 649 650 651 652 653 654 655 656 657 658 659 660 661 662 663 664 665\n",
      " 666 667 668 669 670 671 672 673 674 675 676 677 678 679 680 681 682 683\n",
      " 684 685 686 687 688 689 690 691 692 693 694 695 696 697 698 699 700 701\n",
      " 702 703 704 705 706 707 708 709 710 711 712 713 714 715 716 717 718 719\n",
      " 720 721 722 723 724 725 726 727 728 729 730 731 732 733 734 735 736 737\n",
      " 738 739 740 741 742 743 744 745 746 747 748 749 750 751 752 753 754 755\n",
      " 756 757 758 759 760 761 762 763 764 765 766 767 768 769 770 771 772 773\n",
      " 774 775 776 777 778 779 780 781 782 783 784 785 786 787 788 789 790 791\n",
      " 792 793 794 795 796 797 798 799 800 801 802 803 804 805 806 807 808 809\n",
      " 810 811 812 813 814 815 816 817 818 819 820 821 822 823 824 825 826 827\n",
      " 828 829 830 831 832 833 834 835 836 837 838 839 840 841 842 843 844 845\n",
      " 846 847 848 849 850 851 852 853 854 855 856 857 858 859 860 861 862 863\n",
      " 864 865 866 867 868 869 870 871 872 873 874 875 876 877 878 879 880 881\n",
      " 882 883 884 885 886 887 888 889 890 891 892 893 894 895 896 897 898 899\n",
      " 900 901 902 903 904 905 906 907 908 909 910 911 912 913 914 915 916 917\n",
      " 918 919 920 921 922 923 924 925 926 927 928 929 930 931 932 933 934 935\n",
      " 936 937 938 939 940 941 942 943 944 945 946 947 948 949 950 951 952 953\n",
      " 954 955 956 957 958 959 960 961 962 963 964 965 966 967 968 969 970 971\n",
      " 972 973 974 975 976 977 978 979 980 981 982 983 984 985 986 987 988 989\n",
      " 990 991 992 993 994 995 996 997 998 999]\n",
      "[ 0.   2.5  5.   7.5 10. ]\n"
     ]
    },
    {
     "data": {
      "text/plain": [
       "array([1, 1, 1, 1, 1], dtype=int64)"
      ]
     },
     "execution_count": 5,
     "metadata": {},
     "output_type": "execute_result"
    }
   ],
   "source": [
    "a = np.zeros(9)\n",
    "print(a)\n",
    "a = np.ones(9)\n",
    "print(a)\n",
    "a = np.empty(9)\n",
    "print(a)\n",
    "a = np.arange(1000)\n",
    "print(a)\n",
    "a = np.linspace(0, 10, num=5)\n",
    "print(a)\n",
    "a = np.ones(5, dtype=np.int64)\n",
    "a"
   ]
  },
  {
   "cell_type": "code",
   "execution_count": 6,
   "id": "ac41c7b6-8ad5-4da5-9336-762ee638efb9",
   "metadata": {},
   "outputs": [
    {
     "name": "stdout",
     "output_type": "stream",
     "text": [
      "[5 3 1 2 6]\n",
      "[1 2 3 5 6]\n",
      "[6 5 3 2 1]\n",
      "[  6   5   3   2   1 100]\n",
      "[  6   5   3   1 100]\n"
     ]
    }
   ],
   "source": [
    "arr = np.array([5, 3, 1, 2, 6])\n",
    "print(arr)\n",
    "arr = np.sort(arr)\n",
    "print(arr)\n",
    "arr = np.sort(arr)[::-1]\n",
    "print(arr)\n",
    "arr = np.append(arr, 100)\n",
    "print(arr)\n",
    "arr = np.delete(arr, 3)\n",
    "print(arr)"
   ]
  },
  {
   "cell_type": "code",
   "execution_count": 7,
   "id": "1edbdd59-8171-43dd-b7db-659a94c596d5",
   "metadata": {},
   "outputs": [
    {
     "name": "stdout",
     "output_type": "stream",
     "text": [
      "[[1 2 3]\n",
      " [4 6 8]\n",
      " [5 7 9]]\n",
      "[[3 1 2]\n",
      " [4 6 5]\n",
      " [9 7 8]]\n"
     ]
    }
   ],
   "source": [
    "arr = np.array([[3, 1, 2],\n",
    "                [4, 6, 8],\n",
    "                [9, 7, 5]])\n",
    "\n",
    "sap_xep_theo_hang = np.sort(arr, axis=1)\n",
    "print(sap_xep_theo_hang)\n",
    "sap_xep_theo_cot = np.sort(arr, axis=0)\n",
    "print(sap_xep_theo_cot)"
   ]
  },
  {
   "cell_type": "code",
   "execution_count": 8,
   "id": "7cb3fe91-5a4c-4fb6-a783-6ea53727fea1",
   "metadata": {},
   "outputs": [
    {
     "name": "stdout",
     "output_type": "stream",
     "text": [
      "[[3 2 1]\n",
      " [8 6 4]\n",
      " [9 7 5]]\n",
      "[[9 7 8]\n",
      " [4 6 5]\n",
      " [3 1 2]]\n"
     ]
    }
   ],
   "source": [
    "arr = np.array([[3, 1, 2],\n",
    "                [4, 6, 8],\n",
    "                [9, 7, 5]])\n",
    "sap_xep_theo_hang = -np.sort(-arr, axis=1) \n",
    "print(sap_xep_theo_hang)\n",
    "sap_xep_theo_cot = -np.sort(-arr, axis=0) \n",
    "print(sap_xep_theo_cot)"
   ]
  },
  {
   "cell_type": "code",
   "execution_count": 9,
   "id": "195202fe-274e-4668-b7c7-0a5d642db650",
   "metadata": {},
   "outputs": [
    {
     "name": "stdout",
     "output_type": "stream",
     "text": [
      "Số chiều: 2\n",
      "Kích thước: 24\n",
      "Hình dạng: (8, 3)\n"
     ]
    }
   ],
   "source": [
    "arr = np.array([[1, 2, 3], [4, 5, 6],[1, 2, 3], [4, 5, 6],[1, 2, 3], [4, 5, 6],[1, 2, 3], [4, 5, 6]])\n",
    "\n",
    "so_chieu = arr.ndim \n",
    "kich_thuoc = arr.size \n",
    "hinh_dang = arr.shape \n",
    "\n",
    "print(\"Số chiều:\", so_chieu)\n",
    "print(\"Kích thước:\", kich_thuoc)\n",
    "print(\"Hình dạng:\", hinh_dang)"
   ]
  },
  {
   "cell_type": "code",
   "execution_count": 10,
   "id": "f67dc0b9-c455-4731-9643-b29d4c32e175",
   "metadata": {},
   "outputs": [
    {
     "name": "stdout",
     "output_type": "stream",
     "text": [
      "[ 2.  3.  4.  5.  6.  7.  8.  9. 10. 11.]\n"
     ]
    }
   ],
   "source": [
    "arr = np.array([2, 3, 4, 5, 6,7,8,9,10,11])\n",
    "arr_float = arr.astype(float)\n",
    "print(arr_float)"
   ]
  },
  {
   "cell_type": "code",
   "execution_count": 11,
   "id": "4dc74fd6-884f-439b-8590-50c57760f057",
   "metadata": {},
   "outputs": [
    {
     "name": "stdout",
     "output_type": "stream",
     "text": [
      "[[8 6 4]\n",
      " [3 1 0]]\n",
      "[[8 6]\n",
      " [4 3]\n",
      " [1 0]]\n"
     ]
    }
   ],
   "source": [
    "arr = np.array([8, 6, 4, 3, 1, 0])\n",
    "reshaped_arr = arr.reshape(2,3)\n",
    "print(reshaped_arr)\n",
    "reshaped_arr = arr.reshape(3,2)\n",
    "print(reshaped_arr)"
   ]
  },
  {
   "cell_type": "code",
   "execution_count": 12,
   "id": "48142733-3aa9-466a-9a5a-b2f38b4e498a",
   "metadata": {},
   "outputs": [
    {
     "name": "stdout",
     "output_type": "stream",
     "text": [
      "[8 6 4 3 1 0]\n"
     ]
    }
   ],
   "source": [
    "reshaped_arr = reshaped_arr.flatten()\n",
    "print(reshaped_arr)"
   ]
  },
  {
   "cell_type": "code",
   "execution_count": 14,
   "id": "b2057e68-0447-4867-b9f3-2391c6cb4307",
   "metadata": {},
   "outputs": [
    {
     "name": "stdout",
     "output_type": "stream",
     "text": [
      "[6 9 7]\n",
      "[2 6 9 7]\n",
      "[7 3]\n"
     ]
    }
   ],
   "source": [
    "arr = np.array([2, 6, 9, 7, 3])\n",
    "sub_arr = arr[1:4] \n",
    "print(sub_arr) \n",
    "sub_arr = arr[:-1] \n",
    "print(sub_arr)\n",
    "sub_arr = arr[-2:] \n",
    "print(sub_arr)"
   ]
  },
  {
   "cell_type": "code",
   "execution_count": 16,
   "id": "807e71aa-5437-4227-8ac6-5193e3dc0eff",
   "metadata": {},
   "outputs": [
    {
     "name": "stdout",
     "output_type": "stream",
     "text": [
      "[[1 2 3]\n",
      " [4 5 6]]\n",
      "[[1 4]\n",
      " [2 5]\n",
      " [3 6]]\n"
     ]
    }
   ],
   "source": [
    "arr = np.array([[1, 2, 3], [4, 5, 6]])\n",
    "print(arr)\n",
    "transposed_arr = arr.T\n",
    "print(transposed_arr)"
   ]
  },
  {
   "cell_type": "code",
   "execution_count": 17,
   "id": "a4615bf5-2934-4088-9333-da2266923601",
   "metadata": {},
   "outputs": [
    {
     "name": "stdout",
     "output_type": "stream",
     "text": [
      "[10 15 18  3  9  7]\n"
     ]
    }
   ],
   "source": [
    "arr1 = np.array([10,15, 18])\n",
    "arr2 = np.array([3, 9, 7])\n",
    "arr = np.concatenate((arr1, arr2))\n",
    "print(arr)"
   ]
  },
  {
   "cell_type": "code",
   "execution_count": null,
   "id": "f68ef7cb-f1b1-4184-8277-39700af37b34",
   "metadata": {},
   "outputs": [],
   "source": [
    "arr = np.array([1, 2, 3, 4, 5])\n",
    "total = np.sum(arr)\n",
    "print(\"Tổng của mảng arr:\", total)\n",
    "\n",
    "average = np.mean(arr)\n",
    "print(\"Giá trị trung bình của mảng arr:\", average)\n",
    "\n",
    "max_value = np.max(arr)\n",
    "min_value = np.min(arr)\n",
    "print(\"Giá trị lớn nhất trong mảng arr:\", max_value)\n",
    "print(\"Giá trị nhỏ nhất trong mảng arr:\", min_value)\n",
    "\n",
    "std_deviation = np.std(arr)\n",
    "print(\"Độ lệch chuẩn của mảng arr:\", std_deviation)\n",
    "\n",
    "variance = np.var(arr)\n",
    "print(\"Phương sai của mảng arr:\", variance)\n",
    "\n",
    "arr1 = np.array([9, 7, 13])\n",
    "arr2 = np.array([4, 5, 6])\n",
    "dot_product = np.dot(arr1, arr2)\n",
    "print(\"Tổng tích chập của arr1 và arr2:\", dot_product)"
   ]
  }
 ],
 "metadata": {
  "kernelspec": {
   "display_name": "Python 3 (ipykernel)",
   "language": "python",
   "name": "python3"
  },
  "language_info": {
   "codemirror_mode": {
    "name": "ipython",
    "version": 3
   },
   "file_extension": ".py",
   "mimetype": "text/x-python",
   "name": "python",
   "nbconvert_exporter": "python",
   "pygments_lexer": "ipython3",
   "version": "3.12.4"
  }
 },
 "nbformat": 4,
 "nbformat_minor": 5
}
