{
 "cells": [
  {
   "cell_type": "code",
   "execution_count": 1,
   "id": "40470474-01a2-4e55-a412-3fda71a9b357",
   "metadata": {},
   "outputs": [],
   "source": [
    "#!pip install scipy\n"
   ]
  },
  {
   "cell_type": "code",
   "execution_count": 2,
   "id": "50331bc6-b77d-494a-825e-ca659158c571",
   "metadata": {},
   "outputs": [],
   "source": [
    "from scipy import linalg\n",
    "import numpy as np"
   ]
  },
  {
   "cell_type": "code",
   "execution_count": 3,
   "id": "742c92c7-8a8d-4557-a38f-8b1243cb1327",
   "metadata": {},
   "outputs": [
    {
     "name": "stdout",
     "output_type": "stream",
     "text": [
      "Kết quả:  [0.10526316 0.84210526]\n"
     ]
    }
   ],
   "source": [
    "A = np.array([[3, 2],[7,11]])\n",
    "b = np.array([2,10])\n",
    "x = linalg.solve(A, b)\n",
    "print(\"Kết quả: \", x)"
   ]
  },
  {
   "cell_type": "code",
   "execution_count": 4,
   "id": "99513dcb-f46c-448b-aff7-af38bb82cd72",
   "metadata": {},
   "outputs": [
    {
     "name": "stdout",
     "output_type": "stream",
     "text": [
      "Tích phân f(x) từ 0 đến 9:  (13751.550000000003, 1.5267287434284074e-10)\n"
     ]
    }
   ],
   "source": [
    "from scipy import integrate\n",
    "def my_function(x):\n",
    "    return x**4 +x**3+ x**2+ x+ 2\n",
    "integral = integrate.quad(my_function, 0, 9);\n",
    "print(\"Tích phân f(x) từ 0 đến 9: \", integral)"
   ]
  },
  {
   "cell_type": "code",
   "execution_count": 5,
   "id": "d98df899-65cf-4b2e-ab00-4e3538bb96c9",
   "metadata": {},
   "outputs": [
    {
     "name": "stdout",
     "output_type": "stream",
     "text": [
      "Giá trị riêng:  [14.40312424+0.j  1.59687576+0.j]\n",
      "Vector riêng:  [[ 0.82869857 -0.73395654]\n",
      " [ 0.55969517  0.67919643]]\n"
     ]
    }
   ],
   "source": [
    "from scipy import linalg\n",
    "import numpy as np\n",
    "A = np.array([[9,8], [5,7]])\n",
    "evals, evecs = linalg.eig(A)\n",
    "print(\"Giá trị riêng: \", evals)\n",
    "print(\"Vector riêng: \", evecs)"
   ]
  },
  {
   "cell_type": "code",
   "execution_count": null,
   "id": "8e63f651-bea5-4826-ba57-3d3f74317021",
   "metadata": {},
   "outputs": [],
   "source": []
  }
 ],
 "metadata": {
  "kernelspec": {
   "display_name": "Python 3 (ipykernel)",
   "language": "python",
   "name": "python3"
  },
  "language_info": {
   "codemirror_mode": {
    "name": "ipython",
    "version": 3
   },
   "file_extension": ".py",
   "mimetype": "text/x-python",
   "name": "python",
   "nbconvert_exporter": "python",
   "pygments_lexer": "ipython3",
   "version": "3.12.4"
  }
 },
 "nbformat": 4,
 "nbformat_minor": 5
}
