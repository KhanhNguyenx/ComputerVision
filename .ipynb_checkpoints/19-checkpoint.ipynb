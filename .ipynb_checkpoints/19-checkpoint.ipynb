{
 "cells": [
  {
   "cell_type": "code",
   "execution_count": 1,
   "id": "2b5b87d2-ecea-4daa-afdc-e5ed08bbb2f1",
   "metadata": {},
   "outputs": [
    {
     "name": "stdout",
     "output_type": "stream",
     "text": [
      "Defaulting to user installation because normal site-packages is not writeable\n",
      "Collecting opencv-python\n",
      "  Downloading opencv_python-4.10.0.84-cp37-abi3-win_amd64.whl.metadata (20 kB)\n",
      "Requirement already satisfied: numpy>=1.21.2 in c:\\programdata\\anaconda3\\lib\\site-packages (from opencv-python) (1.26.4)\n",
      "Downloading opencv_python-4.10.0.84-cp37-abi3-win_amd64.whl (38.8 MB)\n",
      "   ---------------------------------------- 0.0/38.8 MB ? eta -:--:--\n",
      "   - -------------------------------------- 1.0/38.8 MB 8.5 MB/s eta 0:00:05\n",
      "   --- ------------------------------------ 3.4/38.8 MB 10.1 MB/s eta 0:00:04\n",
      "   ----- ---------------------------------- 5.5/38.8 MB 10.8 MB/s eta 0:00:04\n",
      "   ------- -------------------------------- 7.6/38.8 MB 10.0 MB/s eta 0:00:04\n",
      "   --------- ------------------------------ 8.9/38.8 MB 9.2 MB/s eta 0:00:04\n",
      "   ---------- ----------------------------- 10.2/38.8 MB 8.9 MB/s eta 0:00:04\n",
      "   ----------- ---------------------------- 11.5/38.8 MB 8.1 MB/s eta 0:00:04\n",
      "   ------------ --------------------------- 12.6/38.8 MB 8.1 MB/s eta 0:00:04\n",
      "   -------------- ------------------------- 14.2/38.8 MB 7.7 MB/s eta 0:00:04\n",
      "   ---------------- ----------------------- 16.0/38.8 MB 7.8 MB/s eta 0:00:03\n",
      "   ----------------- ---------------------- 17.3/38.8 MB 7.7 MB/s eta 0:00:03\n",
      "   ------------------- -------------------- 18.9/38.8 MB 7.5 MB/s eta 0:00:03\n",
      "   -------------------- ------------------- 20.2/38.8 MB 7.5 MB/s eta 0:00:03\n",
      "   ---------------------- ----------------- 21.8/38.8 MB 7.5 MB/s eta 0:00:03\n",
      "   ------------------------ --------------- 23.3/38.8 MB 7.4 MB/s eta 0:00:03\n",
      "   ------------------------- -------------- 24.4/38.8 MB 7.3 MB/s eta 0:00:02\n",
      "   ------------------------- -------------- 25.2/38.8 MB 7.0 MB/s eta 0:00:02\n",
      "   -------------------------- ------------- 26.2/38.8 MB 6.9 MB/s eta 0:00:02\n",
      "   ---------------------------- ----------- 27.5/38.8 MB 6.9 MB/s eta 0:00:02\n",
      "   ----------------------------- ---------- 28.6/38.8 MB 6.8 MB/s eta 0:00:02\n",
      "   ------------------------------ --------- 29.4/38.8 MB 6.7 MB/s eta 0:00:02\n",
      "   ------------------------------ --------- 29.9/38.8 MB 6.4 MB/s eta 0:00:02\n",
      "   ------------------------------- -------- 30.1/38.8 MB 6.3 MB/s eta 0:00:02\n",
      "   ------------------------------- -------- 30.7/38.8 MB 6.1 MB/s eta 0:00:02\n",
      "   ------------------------------- -------- 30.9/38.8 MB 6.0 MB/s eta 0:00:02\n",
      "   -------------------------------- ------- 31.2/38.8 MB 5.7 MB/s eta 0:00:02\n",
      "   -------------------------------- ------- 31.5/38.8 MB 5.6 MB/s eta 0:00:02\n",
      "   -------------------------------- ------- 32.0/38.8 MB 5.5 MB/s eta 0:00:02\n",
      "   --------------------------------- ------ 32.5/38.8 MB 5.4 MB/s eta 0:00:02\n",
      "   ---------------------------------- ----- 33.3/38.8 MB 5.2 MB/s eta 0:00:02\n",
      "   ---------------------------------- ----- 33.8/38.8 MB 5.2 MB/s eta 0:00:01\n",
      "   ----------------------------------- ---- 34.3/38.8 MB 5.1 MB/s eta 0:00:01\n",
      "   ----------------------------------- ---- 34.9/38.8 MB 5.0 MB/s eta 0:00:01\n",
      "   ------------------------------------ --- 35.4/38.8 MB 4.9 MB/s eta 0:00:01\n",
      "   ------------------------------------ --- 35.9/38.8 MB 4.9 MB/s eta 0:00:01\n",
      "   ------------------------------------- -- 36.4/38.8 MB 4.8 MB/s eta 0:00:01\n",
      "   -------------------------------------- - 37.2/38.8 MB 4.7 MB/s eta 0:00:01\n",
      "   -------------------------------------- - 37.7/38.8 MB 4.7 MB/s eta 0:00:01\n",
      "   ---------------------------------------  38.5/38.8 MB 4.6 MB/s eta 0:00:01\n",
      "   ---------------------------------------  38.8/38.8 MB 4.6 MB/s eta 0:00:01\n",
      "   ---------------------------------------- 38.8/38.8 MB 4.5 MB/s eta 0:00:00\n",
      "Installing collected packages: opencv-python\n",
      "Successfully installed opencv-python-4.10.0.84\n"
     ]
    }
   ],
   "source": [
    "!pip install opencv-python"
   ]
  },
  {
   "cell_type": "code",
   "execution_count": 2,
   "id": "6fa6f926-3a83-4248-854f-6cbcafbd0398",
   "metadata": {},
   "outputs": [],
   "source": [
    "def display(title, img):\n",
    "    cv2.imshow(title, img)\n",
    "    cv2.waitKey(0)\n",
    "    cv2.destroyWindow(title)"
   ]
  },
  {
   "cell_type": "code",
   "execution_count": 3,
   "id": "1ccfdb5d-fff2-42ba-b305-61ef805f614c",
   "metadata": {},
   "outputs": [],
   "source": [
    "import cv2\n"
   ]
  },
  {
   "cell_type": "code",
   "execution_count": 4,
   "id": "64bb7951-95e4-4cc9-8de9-6ed5226eb140",
   "metadata": {},
   "outputs": [
    {
     "name": "stdout",
     "output_type": "stream",
     "text": [
      "[[[167 177 187]\n",
      "  [165 175 185]\n",
      "  [165 174 184]\n",
      "  ...\n",
      "  [131 118 110]\n",
      "  [130 114 107]\n",
      "  [134 118 111]]\n",
      "\n",
      " [[104 114 124]\n",
      "  [100 110 120]\n",
      "  [ 99 108 118]\n",
      "  ...\n",
      "  [ 18   5   0]\n",
      "  [ 17   1   0]\n",
      "  [ 20   4   0]]\n",
      "\n",
      " [[114 123 136]\n",
      "  [108 117 130]\n",
      "  [106 115 125]\n",
      "  ...\n",
      "  [ 30  18   8]\n",
      "  [ 31  16   7]\n",
      "  [ 33  18   9]]\n",
      "\n",
      " ...\n",
      "\n",
      " [[ 12   8   7]\n",
      "  [ 10   7   3]\n",
      "  [ 12   9   5]\n",
      "  ...\n",
      "  [ 98  90 107]\n",
      "  [103  93 109]\n",
      "  [ 90  81  94]]\n",
      "\n",
      " [[ 10   8   8]\n",
      "  [  8   6   5]\n",
      "  [ 12   8   7]\n",
      "  ...\n",
      "  [ 82  75  96]\n",
      "  [ 84  76  93]\n",
      "  [ 93  86 101]]\n",
      "\n",
      " [[ 10   8   8]\n",
      "  [  8   6   6]\n",
      "  [ 12   8   7]\n",
      "  ...\n",
      "  [ 82  74  97]\n",
      "  [ 88  79  99]\n",
      "  [ 88  80  97]]]\n"
     ]
    }
   ],
   "source": [
    "path= 'C:/Users/ADMIN/Pictures/Saved Pictures/tongthong.jpg'\n",
    "img = cv2.imread(path)\n",
    "print(img)"
   ]
  },
  {
   "cell_type": "code",
   "execution_count": 5,
   "id": "657095ac-2fba-4dce-b327-04c3475a8c44",
   "metadata": {},
   "outputs": [
    {
     "name": "stdout",
     "output_type": "stream",
     "text": [
      "(350, 798, 3)\n",
      "350\n",
      "798\n",
      "3\n"
     ]
    }
   ],
   "source": [
    "print(img.shape)\n",
    "x, y, z = img.shape\n",
    "print(x)\n",
    "print(y)\n",
    "print(z)"
   ]
  },
  {
   "cell_type": "code",
   "execution_count": 6,
   "id": "f0186c63-f4e8-42ed-b937-4e9e23f51657",
   "metadata": {},
   "outputs": [],
   "source": [
    "cv2.imshow('Window', img)\n",
    "cv2.waitKey(10000)\n",
    "cv2.destroyWindow('Window')"
   ]
  },
  {
   "cell_type": "code",
   "execution_count": 7,
   "id": "5cc43f4d-548b-4447-82a6-a61d87a42cb3",
   "metadata": {},
   "outputs": [],
   "source": [
    "b, g, r = cv2.split(img)\n",
    "cv2.imshow('Window', img)\n",
    "cv2.imshow('Red', r)\n",
    "cv2.imshow('Green', g)\n",
    "cv2.imshow('Blue', b)\n",
    "cv2.waitKey(0)\n",
    "cv2.destroyAllWindows()"
   ]
  },
  {
   "cell_type": "code",
   "execution_count": 8,
   "id": "f041eac9-bc7f-436b-be5f-670f538cf574",
   "metadata": {},
   "outputs": [],
   "source": [
    "gray_img = cv2.cvtColor(img, cv2.COLOR_BGR2GRAY)\n",
    "img_2 = cv2.cvtColor(img, cv2.COLOR_BGR2RGB)\n",
    "cv2.imshow('Window', img)\n",
    "cv2.imshow('gray_img', gray_img)\n",
    "cv2.imshow('img_2', img_2)\n",
    "cv2.waitKey(0)\n",
    "cv2.destroyAllWindows()"
   ]
  },
  {
   "cell_type": "code",
   "execution_count": 9,
   "id": "9f545a24-9621-4c5f-8931-c6e5ae131e29",
   "metadata": {},
   "outputs": [
    {
     "ename": "error",
     "evalue": "OpenCV(4.10.0) D:\\a\\opencv-python\\opencv-python\\opencv\\modules\\highgui\\src\\window_w32.cpp:1261: error: (-27:Null pointer) NULL window: 'Window' in function 'cvDestroyWindow'\n",
     "output_type": "error",
     "traceback": [
      "\u001b[1;31m---------------------------------------------------------------------------\u001b[0m",
      "\u001b[1;31merror\u001b[0m                                     Traceback (most recent call last)",
      "Cell \u001b[1;32mIn[9], line 9\u001b[0m\n\u001b[0;32m      7\u001b[0m     \u001b[38;5;28;01mfor\u001b[39;00m x \u001b[38;5;129;01min\u001b[39;00m \u001b[38;5;28mrange\u001b[39m(\u001b[38;5;28mint\u001b[39m(quater_w)):\n\u001b[0;32m      8\u001b[0m         img2[y, x] \u001b[38;5;241m=\u001b[39m green_color\n\u001b[1;32m----> 9\u001b[0m display(\u001b[38;5;124m'\u001b[39m\u001b[38;5;124mWindow\u001b[39m\u001b[38;5;124m'\u001b[39m, img)\n\u001b[0;32m     10\u001b[0m display(\u001b[38;5;124m'\u001b[39m\u001b[38;5;124mWindow-2\u001b[39m\u001b[38;5;124m'\u001b[39m, img2)\n",
      "Cell \u001b[1;32mIn[2], line 4\u001b[0m, in \u001b[0;36mdisplay\u001b[1;34m(title, img)\u001b[0m\n\u001b[0;32m      2\u001b[0m cv2\u001b[38;5;241m.\u001b[39mimshow(title, img)\n\u001b[0;32m      3\u001b[0m cv2\u001b[38;5;241m.\u001b[39mwaitKey(\u001b[38;5;241m0\u001b[39m)\n\u001b[1;32m----> 4\u001b[0m cv2\u001b[38;5;241m.\u001b[39mdestroyWindow(title)\n",
      "\u001b[1;31merror\u001b[0m: OpenCV(4.10.0) D:\\a\\opencv-python\\opencv-python\\opencv\\modules\\highgui\\src\\window_w32.cpp:1261: error: (-27:Null pointer) NULL window: 'Window' in function 'cvDestroyWindow'\n"
     ]
    }
   ],
   "source": [
    "height, width, z = img.shape\n",
    "quater_h = height/2\n",
    "quater_w = width/2\n",
    "green_color = (0,255,0)\n",
    "img2 = img.copy()\n",
    "for y in range(int(quater_h)):\n",
    "    for x in range(int(quater_w)):\n",
    "        img2[y, x] = green_color\n",
    "display('Window', img)\n",
    "display('Window-2', img2)"
   ]
  },
  {
   "cell_type": "code",
   "execution_count": null,
   "id": "d001556a-2704-47fa-a71c-75bead3ba4cc",
   "metadata": {},
   "outputs": [],
   "source": []
  }
 ],
 "metadata": {
  "kernelspec": {
   "display_name": "Python 3 (ipykernel)",
   "language": "python",
   "name": "python3"
  },
  "language_info": {
   "codemirror_mode": {
    "name": "ipython",
    "version": 3
   },
   "file_extension": ".py",
   "mimetype": "text/x-python",
   "name": "python",
   "nbconvert_exporter": "python",
   "pygments_lexer": "ipython3",
   "version": "3.12.4"
  }
 },
 "nbformat": 4,
 "nbformat_minor": 5
}
