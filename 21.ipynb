{
 "cells": [
  {
   "cell_type": "code",
   "execution_count": 1,
   "id": "284e0656-fa40-4472-ad54-98c2728f3919",
   "metadata": {},
   "outputs": [],
   "source": [
    "import cv2"
   ]
  },
  {
   "cell_type": "code",
   "execution_count": 2,
   "id": "ee51a63d-04c9-4aac-9439-cb9f69e80298",
   "metadata": {},
   "outputs": [],
   "source": [
    "my_video = cv2.VideoCapture('D:/Du Lieu/AnNinhMang/anninhmang.mp4')"
   ]
  },
  {
   "cell_type": "code",
   "execution_count": 3,
   "id": "1b863f4c-3d34-4bfa-abda-1a97dc15f644",
   "metadata": {},
   "outputs": [],
   "source": [
    "cv2.namedWindow('Video Player', cv2.WINDOW_NORMAL)"
   ]
  },
  {
   "cell_type": "code",
   "execution_count": 13,
   "id": "f8c0e8de-17e4-4b63-b91b-c7053dabbd04",
   "metadata": {},
   "outputs": [],
   "source": [
    "while True:\n",
    "    # Đọc 1 frame\n",
    "    ret, frame = my_video.read()\n",
    "    if not ret:\n",
    "        break\n",
    "    cv2.imshow('Video Player', frame)\n",
    "    if(cv2.waitKey(10)==ord('q')):\n",
    "        break"
   ]
  },
  {
   "cell_type": "code",
   "execution_count": 9,
   "id": "08398bf8-e43b-4318-94b2-5d6d77dfd2f6",
   "metadata": {},
   "outputs": [],
   "source": [
    "my_video.release\n",
    "cv2.destroyAllWindows()"
   ]
  }
 ],
 "metadata": {
  "kernelspec": {
   "display_name": "Python 3 (ipykernel)",
   "language": "python",
   "name": "python3"
  },
  "language_info": {
   "codemirror_mode": {
    "name": "ipython",
    "version": 3
   },
   "file_extension": ".py",
   "mimetype": "text/x-python",
   "name": "python",
   "nbconvert_exporter": "python",
   "pygments_lexer": "ipython3",
   "version": "3.12.4"
  }
 },
 "nbformat": 4,
 "nbformat_minor": 5
}
