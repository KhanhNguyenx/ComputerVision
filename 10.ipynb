{
 "cells": [
  {
   "cell_type": "code",
   "execution_count": 1,
   "id": "add2441d-0bff-4748-bdf8-2ace51147f6f",
   "metadata": {},
   "outputs": [
    {
     "name": "stdout",
     "output_type": "stream",
     "text": [
      "[(878.9838709677417, 434.9999999999998), (919.241935483871, 444.2903225806449), (950.2096774193546, 438.0967741935483), (978.0806451612902, 428.80645161290295), (1002.8548387096773, 422.61290322580635)]\n"
     ]
    }
   ],
   "source": [
    "from PIL import Image\n",
    "import matplotlib.pyplot as plt\n",
    "my_path = 'C:/Users/ADMIN/Pictures/Saved Pictures/trump.png'\n",
    "im = Image.open(my_path)\n",
    "plt.switch_backend('tkagg')\n",
    "plt.imshow(im)\n",
    "plt.title('Click on the image to select points')\n",
    "points = plt.ginput(5)\n",
    "print(points)"
   ]
  },
  {
   "cell_type": "code",
   "execution_count": 4,
   "id": "deae882b-79fb-466c-a688-5e52d3769a77",
   "metadata": {},
   "outputs": [],
   "source": [
    "plt.close()\n",
    "plt.imshow(im)\n",
    "for point in points:\n",
    "    x,y = point\n",
    "    plt.plot(x,y,'r*')"
   ]
  },
  {
   "cell_type": "code",
   "execution_count": 5,
   "id": "76550ad7-3b57-4b77-a97d-af7cba8ba03a",
   "metadata": {},
   "outputs": [],
   "source": [
    "plt.show()"
   ]
  },
  {
   "cell_type": "code",
   "execution_count": null,
   "id": "0cddb086-444f-459f-9b66-f3d6906aa9e4",
   "metadata": {},
   "outputs": [],
   "source": []
  }
 ],
 "metadata": {
  "kernelspec": {
   "display_name": "Python 3 (ipykernel)",
   "language": "python",
   "name": "python3"
  },
  "language_info": {
   "codemirror_mode": {
    "name": "ipython",
    "version": 3
   },
   "file_extension": ".py",
   "mimetype": "text/x-python",
   "name": "python",
   "nbconvert_exporter": "python",
   "pygments_lexer": "ipython3",
   "version": "3.12.4"
  }
 },
 "nbformat": 4,
 "nbformat_minor": 5
}
